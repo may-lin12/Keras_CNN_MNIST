{
 "cells": [
  {
   "cell_type": "code",
   "execution_count": 1,
   "metadata": {},
   "outputs": [
    {
     "name": "stderr",
     "output_type": "stream",
     "text": [
      "Using TensorFlow backend.\n"
     ]
    },
    {
     "name": "stdout",
     "output_type": "stream",
     "text": [
      "X_train.shape=(60000, 28, 28), y_train.shape=(60000,)\n",
      "X_test.shape=(10000, 28, 28), y_test.shape=(10000,)\n"
     ]
    }
   ],
   "source": [
    "#資料預處理\n",
    "#載入內建的MNIST dataset，並import matplotlib，以方便稍後顯示圖形及繪圖。\n",
    "from keras.datasets import mnist\n",
    "from keras.utils import np_utils\n",
    "import matplotlib.pyplot as plt\n",
    "import numpy as np\n",
    "np.random.seed(10)\n",
    "\n",
    "#載入Train及Test dataset並顯示其維度，例如X_train有60000筆28×28的data。\n",
    "(X_train,y_train),(X_test,y_test) = mnist.load_data()\n",
    "\n",
    "print(\"X_train.shape={}, y_train.shape={}\".format(X_train.shape,y_train.shape))\n",
    "print(\"X_test.shape={}, y_test.shape={}\".format(X_test.shape,y_test.shape))"
   ]
  },
  {
   "cell_type": "code",
   "execution_count": 2,
   "metadata": {},
   "outputs": [
    {
     "name": "stdout",
     "output_type": "stream",
     "text": [
      "X_train.shape=(60000, 28, 28, 1)\n",
      "X_test.shape=(10000, 28, 28, 1)\n"
     ]
    }
   ],
   "source": [
    "#我們必須將X_train及X_test dataset由原本三維轉為四維矩陣以符合CNN的需求\n",
    "#這是因為RGB圖片的格式為為width, height, channels，加上ID數維度為4。\n",
    "#MNIST圖片為灰階因此其channel為1，轉換後的shape為(ID, width, height, channel)\n",
    "X_train = X_train.reshape(X_train.shape[0], 28, 28, 1).astype('float32')\n",
    "\n",
    "X_test = X_test.reshape(X_test.shape[0], 28, 28, 1).astype('float32')\n",
    "\n",
    "print('X_train.shape={}'.format(X_train.shape))\n",
    "\n",
    "print('X_test.shape={}'.format(X_test.shape))"
   ]
  },
  {
   "cell_type": "code",
   "execution_count": 3,
   "metadata": {
    "collapsed": true
   },
   "outputs": [],
   "source": [
    "#將dataset的特徵值進行標準化，方法是除以255（因為圖像的像素點介於0~255之間），可讓所有的特徵值介於0與1之間。\n",
    "#除了可提昇模型預測的準確度，梯度運算時也能更快收斂。\n",
    "X_train = X_train / 255\n",
    "\n",
    "X_test = X_test / 255\n",
    "\n",
    "#這步是之前所介紹過的Onehot encoding，將彼此間不相關且非有序的categories轉換為連續性且是有序數值。\n",
    "y_train = np_utils.to_categorical(y_train)\n",
    "\n",
    "y_test_categories = y_test\n",
    "\n",
    "y_test = np_utils.to_categorical(y_test)"
   ]
  },
  {
   "cell_type": "code",
   "execution_count": 4,
   "metadata": {},
   "outputs": [
    {
     "name": "stdout",
     "output_type": "stream",
     "text": [
      "_________________________________________________________________\n",
      "Layer (type)                 Output Shape              Param #   \n",
      "=================================================================\n",
      "conv2d_1 (Conv2D)            (None, 28, 28, 16)        160       \n",
      "_________________________________________________________________\n",
      "max_pooling2d_1 (MaxPooling2 (None, 14, 14, 16)        0         \n",
      "_________________________________________________________________\n",
      "conv2d_2 (Conv2D)            (None, 14, 14, 36)        5220      \n",
      "_________________________________________________________________\n",
      "max_pooling2d_2 (MaxPooling2 (None, 7, 7, 36)          0         \n",
      "_________________________________________________________________\n",
      "conv2d_3 (Conv2D)            (None, 7, 7, 72)          23400     \n",
      "_________________________________________________________________\n",
      "max_pooling2d_3 (MaxPooling2 (None, 3, 3, 72)          0         \n",
      "_________________________________________________________________\n",
      "dropout_1 (Dropout)          (None, 3, 3, 72)          0         \n",
      "_________________________________________________________________\n",
      "flatten_1 (Flatten)          (None, 648)               0         \n",
      "_________________________________________________________________\n",
      "dense_1 (Dense)              (None, 128)               83072     \n",
      "_________________________________________________________________\n",
      "dropout_2 (Dropout)          (None, 128)               0         \n",
      "_________________________________________________________________\n",
      "dense_2 (Dense)              (None, 10)                1290      \n",
      "=================================================================\n",
      "Total params: 113,142\n",
      "Trainable params: 113,142\n",
      "Non-trainable params: 0\n",
      "_________________________________________________________________\n"
     ]
    }
   ],
   "source": [
    "#CNN模型的建立\n",
    "\n",
    "#匯入建立模型所必要的模組\n",
    "from keras.models import Sequential\n",
    "\n",
    "from keras.layers import Dense, Dropout, Flatten, Conv2D, MaxPooling2D\n",
    "\n",
    "#建立一個線性堆疊模型，之後我們只要將建立的神經網路層依次加入即可。\n",
    "model = Sequential()\n",
    "\n",
    "#建立第一個卷積層並加入model，該層有16個filters（即我們稱的filter或kernel）\n",
    "#kernel大小為3×3，卷積後的圖形大小不變（即圖像周圍會補值）\n",
    "#輸入的圖形維度為28x28x1，使用relu啟動函數。\n",
    "#由於定義了16個filters，因此本層會輸出16個28×28的影像。\n",
    "model.add(Conv2D(filters=16, kernel_size=(3, 3), padding='same', input_shape=(28, 28, 1), activation='relu'))\n",
    "\n",
    "#接下來是池化層，本層參數比較少，我們只要定義pool size為(2,2)，即尺寸縮小為一半。\n",
    "#本層接收了上一層卷積層的16個28×28影像後，會輸出16個14×14的影像。\n",
    "model.add(MaxPooling2D(pool_size=(2, 2)))\n",
    "\n",
    "#再建立第二個卷積層，這次我們定義該層有36個filters，kernel大小為3×3，卷積後的圖形大小不變（即圖像周圍會補值）\n",
    "#輸入的圖形維度為(14,14,1)但可省略因為Keras,會自動判斷，使用relu啟動函數。由於定義了36個filters，因此本層會輸出36個14×14的影像。\n",
    "model.add(Conv2D(filters=36, kernel_size=(3, 3), padding='same', activation='relu'))\n",
    "\n",
    "#加入第二個池化層，參數與第一個池化層完全相同。本層會接收36個14×14影像後，輸出36個7×7的影像。\\\n",
    "model.add(MaxPooling2D(pool_size=(2, 2)))\n",
    "\n",
    "#再建立第三個卷積層，這次我們定義該層有36個filters，kernel大小為3×3，卷積後的圖形大小不變（即圖像周圍會補值）\n",
    "#輸入的圖形維度為(7,7,1)但可省略因為Keras,會自動判斷，使用relu啟動函數。由於定義了36個filters，因此本層會輸出36個5×5的影像。\n",
    "model.add(Conv2D(filters=72, kernel_size=(3, 3), padding='same', activation='relu'))\n",
    "\n",
    "#加入第三個池化層，參數與第一個池化層完全相同。本層會接收36個14×14影像後，輸出36個7×7的影像。\\\n",
    "model.add(MaxPooling2D(pool_size=(2, 2)))\n",
    "\n",
    "#在各兩層的卷積與池化後，我們加入Dropout層\n",
    "#記得Dropout有什麼作用嗎？它最大的功用是減少過度擬合。\n",
    "#在深度學習的訓練過程中，Dropout會讓每次batch run都依據機率丟棄一定比例的神經元不予計算，使得每一次都好像在訓練不同的神經網路一樣。\n",
    "#下方的程式中，我們定義該Dropout層每次訓練時要丟棄50%的神經元。\n",
    "model.add(Dropout(0.5))\n",
    "\n",
    "#接著我們需要一個平坦層，將特徵值轉為一維資料以供後續的全連結層使用。本層接收第二個池化層傳來的36x7x7（=1764）資料之後，轉為1維的1764。\n",
    "model.add(Flatten())\n",
    "    \n",
    "#建立全連結層中的隱藏層(即傳統神經網路中的全連結層)，指定其神經元數目為128個（此數目可調整），啟用函數使用Relu。\n",
    "model.add(Dense(128, activation='relu'))\n",
    "\n",
    "#再加入一層Dropout來防止過度擬合。(此層亦可省略，我們可視執行結果來決定)\n",
    "model.add(Dropout(0.5))\n",
    "    \n",
    "#本模型的最後一層是輸出層，也就是要輸出十種0~9的分類值，一般我們都會使用softmax作為分類模型輸出層的啟動函數。\n",
    "model.add(Dense(10, activation='softmax'))\n",
    "\n",
    "#最後來使用summary指令review一下整個model吧。\n",
    "model.summary()        "
   ]
  },
  {
   "cell_type": "code",
   "execution_count": 5,
   "metadata": {},
   "outputs": [
    {
     "name": "stdout",
     "output_type": "stream",
     "text": [
      "Train on 60000 samples, validate on 10000 samples\n",
      "Epoch 1/5\n",
      "71s - loss: 0.6059 - acc: 0.8017 - val_loss: 0.0892 - val_acc: 0.9712\n",
      "Epoch 2/5\n",
      "67s - loss: 0.1666 - acc: 0.9492 - val_loss: 0.0582 - val_acc: 0.9823\n",
      "Epoch 3/5\n",
      "68s - loss: 0.1185 - acc: 0.9635 - val_loss: 0.0423 - val_acc: 0.9873\n",
      "Epoch 4/5\n",
      "64s - loss: 0.0990 - acc: 0.9706 - val_loss: 0.0350 - val_acc: 0.9884\n",
      "Epoch 5/5\n",
      "64s - loss: 0.0849 - acc: 0.9744 - val_loss: 0.0303 - val_acc: 0.9889\n"
     ]
    }
   ],
   "source": [
    "#訓練模型\n",
    "#在訓練之前，要使用compile來定義訓練的參數。\n",
    "#損失函數使用深度學習分類模型中最常用的交叉熵cross entropy，梯度下降法採取最常用的adam，模型的評估方式則是以accuracy為優先。\n",
    "\n",
    "model.compile(loss='categorical_crossentropy', optimizer='adam', metrics=['accuracy'])\n",
    "\n",
    "#使用fit指令可開始訓練本CNN模型。x與y分別傳入特徵值及分類值。\n",
    "train_history=model.fit(x=X_train, y=y_train, validation_data=(X_test, y_test), validation_split=0.2, epochs=5, batch_size=300, verbose=2)\n",
    "\n",
    "#評估訓練結果\n",
    "#定義一個show_train_history函式，我們只要將結果丟入，便可繪成圖表。\n",
    "\n",
    "def show_train_history(train_history, train, validation):\n",
    "\n",
    "    plt.plot(train_history.history[train])\n",
    "\n",
    "    plt.plot(train_history.history[validation])\n",
    "\n",
    "    plt.title('Train History')\n",
    "\n",
    "    plt.ylabel('train')\n",
    "\n",
    "    plt.xlabel('Epoch')\n",
    "\n",
    "    plt.legend(['train', 'validation'], loc='center right')\n",
    "\n",
    "    plt.show()\n",
    "\n"
   ]
  },
  {
   "cell_type": "code",
   "execution_count": 6,
   "metadata": {},
   "outputs": [
    {
     "data": {
      "image/png": "[encoded data removed]",
      "text/plain": [
       "<matplotlib.figure.Figure at 0x210a9f8f908>"
      ]
     },
     "metadata": {},
     "output_type": "display_data"
    }
   ],
   "source": [
    "#顯示train與test dataset訓練過程的準確率。\n",
    "show_train_history(train_history, 'acc','val_acc')\n"
   ]
  },
  {
   "cell_type": "code",
   "execution_count": 7,
   "metadata": {},
   "outputs": [
    {
     "data": {
      "image/png": "[encoded data removed]",
      "text/plain": [
       "<matplotlib.figure.Figure at 0x210aa7f36a0>"
      ]
     },
     "metadata": {},
     "output_type": "display_data"
    }
   ],
   "source": [
    "#顯示train與test dataset訓練過程的誤差率。\n",
    "show_train_history(train_history, 'loss','val_loss')"
   ]
  },
  {
   "cell_type": "code",
   "execution_count": 8,
   "metadata": {},
   "outputs": [
    {
     "name": "stdout",
     "output_type": "stream",
     "text": [
      " 9920/10000 [============================>.] - ETA: 0s"
     ]
    },
    {
     "data": {
      "text/plain": [
       "0.9889"
      ]
     },
     "execution_count": 8,
     "metadata": {},
     "output_type": "execute_result"
    }
   ],
   "source": [
    "#我們使用test dataset來評估模型的準確率。\n",
    "scores = model.evaluate(X_test, y_test)\n",
    "\n",
    "scores[1]"
   ]
  },
  {
   "cell_type": "code",
   "execution_count": 9,
   "metadata": {},
   "outputs": [
    {
     "name": "stdout",
     "output_type": "stream",
     "text": [
      " 9952/10000 [============================>.] - ETA: 0s(10000, 10)\n"
     ]
    },
    {
     "data": {
      "text/html": [
       "<div>\n",
       "<style>\n",
       "    .dataframe thead tr:only-child th {\n",
       "        text-align: right;\n",
       "    }\n",
       "\n",
       "    .dataframe thead th {\n",
       "        text-align: left;\n",
       "    }\n",
       "\n",
       "    .dataframe tbody tr th {\n",
       "        vertical-align: top;\n",
       "    }\n",
       "</style>\n",
       "<table border=\"1\" class=\"dataframe\">\n",
       "  <thead>\n",
       "    <tr style=\"text-align: right;\">\n",
       "      <th>predict</th>\n",
       "      <th>0</th>\n",
       "      <th>1</th>\n",
       "      <th>2</th>\n",
       "      <th>3</th>\n",
       "      <th>4</th>\n",
       "      <th>5</th>\n",
       "      <th>6</th>\n",
       "      <th>7</th>\n",
       "      <th>8</th>\n",
       "      <th>9</th>\n",
       "    </tr>\n",
       "    <tr>\n",
       "      <th>label</th>\n",
       "      <th></th>\n",
       "      <th></th>\n",
       "      <th></th>\n",
       "      <th></th>\n",
       "      <th></th>\n",
       "      <th></th>\n",
       "      <th></th>\n",
       "      <th></th>\n",
       "      <th></th>\n",
       "      <th></th>\n",
       "    </tr>\n",
       "  </thead>\n",
       "  <tbody>\n",
       "    <tr>\n",
       "      <th>0</th>\n",
       "      <td>976</td>\n",
       "      <td>0</td>\n",
       "      <td>1</td>\n",
       "      <td>0</td>\n",
       "      <td>0</td>\n",
       "      <td>0</td>\n",
       "      <td>1</td>\n",
       "      <td>1</td>\n",
       "      <td>1</td>\n",
       "      <td>0</td>\n",
       "    </tr>\n",
       "    <tr>\n",
       "      <th>1</th>\n",
       "      <td>0</td>\n",
       "      <td>1131</td>\n",
       "      <td>2</td>\n",
       "      <td>0</td>\n",
       "      <td>0</td>\n",
       "      <td>0</td>\n",
       "      <td>1</td>\n",
       "      <td>1</td>\n",
       "      <td>0</td>\n",
       "      <td>0</td>\n",
       "    </tr>\n",
       "    <tr>\n",
       "      <th>2</th>\n",
       "      <td>1</td>\n",
       "      <td>0</td>\n",
       "      <td>1028</td>\n",
       "      <td>0</td>\n",
       "      <td>0</td>\n",
       "      <td>0</td>\n",
       "      <td>0</td>\n",
       "      <td>2</td>\n",
       "      <td>1</td>\n",
       "      <td>0</td>\n",
       "    </tr>\n",
       "    <tr>\n",
       "      <th>3</th>\n",
       "      <td>0</td>\n",
       "      <td>0</td>\n",
       "      <td>1</td>\n",
       "      <td>1004</td>\n",
       "      <td>0</td>\n",
       "      <td>3</td>\n",
       "      <td>0</td>\n",
       "      <td>1</td>\n",
       "      <td>1</td>\n",
       "      <td>0</td>\n",
       "    </tr>\n",
       "    <tr>\n",
       "      <th>4</th>\n",
       "      <td>0</td>\n",
       "      <td>0</td>\n",
       "      <td>0</td>\n",
       "      <td>0</td>\n",
       "      <td>974</td>\n",
       "      <td>0</td>\n",
       "      <td>2</td>\n",
       "      <td>0</td>\n",
       "      <td>0</td>\n",
       "      <td>6</td>\n",
       "    </tr>\n",
       "    <tr>\n",
       "      <th>5</th>\n",
       "      <td>1</td>\n",
       "      <td>0</td>\n",
       "      <td>0</td>\n",
       "      <td>4</td>\n",
       "      <td>0</td>\n",
       "      <td>886</td>\n",
       "      <td>1</td>\n",
       "      <td>0</td>\n",
       "      <td>0</td>\n",
       "      <td>0</td>\n",
       "    </tr>\n",
       "    <tr>\n",
       "      <th>6</th>\n",
       "      <td>6</td>\n",
       "      <td>2</td>\n",
       "      <td>0</td>\n",
       "      <td>0</td>\n",
       "      <td>1</td>\n",
       "      <td>2</td>\n",
       "      <td>944</td>\n",
       "      <td>0</td>\n",
       "      <td>3</td>\n",
       "      <td>0</td>\n",
       "    </tr>\n",
       "    <tr>\n",
       "      <th>7</th>\n",
       "      <td>0</td>\n",
       "      <td>1</td>\n",
       "      <td>12</td>\n",
       "      <td>3</td>\n",
       "      <td>0</td>\n",
       "      <td>1</td>\n",
       "      <td>0</td>\n",
       "      <td>1005</td>\n",
       "      <td>2</td>\n",
       "      <td>4</td>\n",
       "    </tr>\n",
       "    <tr>\n",
       "      <th>8</th>\n",
       "      <td>2</td>\n",
       "      <td>0</td>\n",
       "      <td>2</td>\n",
       "      <td>1</td>\n",
       "      <td>2</td>\n",
       "      <td>2</td>\n",
       "      <td>1</td>\n",
       "      <td>2</td>\n",
       "      <td>960</td>\n",
       "      <td>2</td>\n",
       "    </tr>\n",
       "    <tr>\n",
       "      <th>9</th>\n",
       "      <td>4</td>\n",
       "      <td>1</td>\n",
       "      <td>0</td>\n",
       "      <td>2</td>\n",
       "      <td>7</td>\n",
       "      <td>6</td>\n",
       "      <td>0</td>\n",
       "      <td>4</td>\n",
       "      <td>4</td>\n",
       "      <td>981</td>\n",
       "    </tr>\n",
       "  </tbody>\n",
       "</table>\n",
       "</div>"
      ],
      "text/plain": [
       "predict    0     1     2     3    4    5    6     7    8    9\n",
       "label                                                        \n",
       "0        976     0     1     0    0    0    1     1    1    0\n",
       "1          0  1131     2     0    0    0    1     1    0    0\n",
       "2          1     0  1028     0    0    0    0     2    1    0\n",
       "3          0     0     1  1004    0    3    0     1    1    0\n",
       "4          0     0     0     0  974    0    2     0    0    6\n",
       "5          1     0     0     4    0  886    1     0    0    0\n",
       "6          6     2     0     0    1    2  944     0    3    0\n",
       "7          0     1    12     3    0    1    0  1005    2    4\n",
       "8          2     0     2     1    2    2    1     2  960    2\n",
       "9          4     1     0     2    7    6    0     4    4  981"
      ]
     },
     "execution_count": 9,
     "metadata": {},
     "output_type": "execute_result"
    }
   ],
   "source": [
    "#混淆矩陣\n",
    "import pandas as pd\n",
    "\n",
    "prediction = model.predict_classes(X_test)\n",
    "\n",
    "print(y_test.shape)\n",
    "\n",
    "pd.crosstab(y_test_categories, prediction, rownames=['label'], colnames=['predict'])"
   ]
  },
  {
   "cell_type": "code",
   "execution_count": null,
   "metadata": {
    "collapsed": true
   },
   "outputs": [],
   "source": []
  }
 ],
 "metadata": {
  "kernelspec": {
   "display_name": "Python 3",
   "language": "python",
   "name": "python3"
  },
  "language_info": {
   "codemirror_mode": {
    "name": "ipython",
    "version": 3
   },
   "file_extension": ".py",
   "mimetype": "text/x-python",
   "name": "python",
   "nbconvert_exporter": "python",
   "pygments_lexer": "ipython3",
   "version": "3.6.1"
  }
 },
 "nbformat": 4,
 "nbformat_minor": 2
}
